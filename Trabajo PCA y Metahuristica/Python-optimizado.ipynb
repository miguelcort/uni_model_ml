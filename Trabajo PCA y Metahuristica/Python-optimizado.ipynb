{
 "cells": [
  {
   "cell_type": "markdown",
   "metadata": {},
   "source": [
    "# Universidad Jorge Tadeo Lozano\n",
    "## Taller PCA con Dataset load_diabetes\n",
    "## Integrantes:\n",
    "#### Juan Camilo Ariza\n",
    "#### Edwin Gonzalez\n",
    "#### Miguel Angel Cortes"
   ]
  },
  {
   "cell_type": "code",
   "execution_count": 1,
   "metadata": {},
   "outputs": [],
   "source": [
    "import numpy as np\n",
    "import matplotlib.pyplot as plt\n",
    "import math"
   ]
  },
  {
   "cell_type": "code",
   "execution_count": 2,
   "metadata": {},
   "outputs": [
    {
     "data": {
      "text/plain": [
       "0.8939966636005579"
      ]
     },
     "execution_count": 2,
     "metadata": {},
     "output_type": "execute_result"
    }
   ],
   "source": [
    "math.sin(90)"
   ]
  },
  {
   "cell_type": "code",
   "execution_count": 3,
   "metadata": {},
   "outputs": [
    {
     "name": "stdout",
     "output_type": "stream",
     "text": [
      "Initial X is 3.000\n",
      "Initial Y is 1.000\n",
      "Initial Z is 261.868\n"
     ]
    }
   ],
   "source": [
    "#función a optimizar \n",
    "#f(x,y)=x^2+y*x^3-sin(x^4+y^3)-5*y.\n",
    "\n",
    "x0 = 3\n",
    "y0 = 1\n",
    "\n",
    "k = 0.1\n",
    "T0 = 1000\n",
    "M = 300\n",
    "N = 15\n",
    "alpha = 0.85\n",
    "\n",
    "z_int = ((x0**2+y0)*(x0**3-math.sin((x0**4)+(y0**3)))-(5*y0))\n",
    "\n",
    "print(\"Initial X is %.3f\" % x0)\n",
    "print(\"Initial Y is %.3f\" % y0)\n",
    "print(\"Initial Z is %.3f\" % z_int)\n",
    "\n",
    "\n",
    "temp = []\n",
    "min_z = []"
   ]
  },
  {
   "cell_type": "code",
   "execution_count": 4,
   "metadata": {},
   "outputs": [
    {
     "name": "stderr",
     "output_type": "stream",
     "text": [
      "C:\\Program Files (x86)\\Microsoft Visual Studio\\Shared\\Anaconda3_64\\lib\\site-packages\\ipykernel_launcher.py:30: RuntimeWarning: overflow encountered in exp\n",
      "C:\\Program Files (x86)\\Microsoft Visual Studio\\Shared\\Anaconda3_64\\lib\\site-packages\\ipykernel_launcher.py:30: RuntimeWarning: divide by zero encountered in double_scalars\n"
     ]
    }
   ],
   "source": [
    "for i in range(M):\n",
    "    for j in range(N):\n",
    "        xt = 0\n",
    "        yt = 0\n",
    "        \n",
    "        ran_x_1 = np.random.rand()\n",
    "        ran_x_2 = np.random.rand()\n",
    "        ran_y_1 = np.random.rand()\n",
    "        ran_y_2 = np.random.rand()\n",
    "        \n",
    "        if ran_x_1 >= 0.5:\n",
    "            x1 = k*ran_x_2\n",
    "        else:\n",
    "            x1 = -k*ran_x_2\n",
    "        \n",
    "        if ran_y_1 >= 0.5:\n",
    "            y1 = k*ran_y_2\n",
    "        else:\n",
    "            y1 = -k*ran_y_2\n",
    "            \n",
    "        xt = x0+x1\n",
    "        yt = y0+y1\n",
    "        \n",
    "        of_new = ((xt**2+yt)*(xt**3-math.sin((xt**4)+(yt**3)))-(5*yt))\n",
    "        \n",
    "        of_current = ((x0**2+y0)*(x0**3-math.sin((x0**4)+(y0**3)))-(5*y0))\n",
    "        \n",
    "        \n",
    "        ran_1 = np.random.rand()\n",
    "        form = 1/(np.exp((of_new-of_current)/T0))\n",
    "        \n",
    "        if of_new <= of_current:\n",
    "            x0 = xt\n",
    "            y0 = yt\n",
    "        elif ran_1<=form:\n",
    "            x0 = xt\n",
    "            y0 = yt\n",
    "        else:\n",
    "            x0 = x0\n",
    "            y0 = y0\n",
    "        \n",
    "    temp = np.append(temp,T0)\n",
    "    min_z = np.append(min_z,of_current)\n",
    "    T0 = alpha*T0"
   ]
  },
  {
   "cell_type": "code",
   "execution_count": 5,
   "metadata": {},
   "outputs": [
    {
     "name": "stdout",
     "output_type": "stream",
     "text": [
      "X is -1.155\n",
      "Y is 1.013\n",
      "Final OF is -9.425\n"
     ]
    },
    {
     "data": {
      "image/png": "[encoded data removed]",
      "text/plain": [
       "<Figure size 432x288 with 1 Axes>"
      ]
     },
     "metadata": {},
     "output_type": "display_data"
    }
   ],
   "source": [
    "print(\"X is %.3f\" % x0)\n",
    "print(\"Y is %.3f\" % y0)\n",
    "print(\"Final OF is %.3f\" % of_current)\n",
    "\n",
    "\n",
    "plt.plot(temp,min_z)\n",
    "plt.title(\"Z vs. Temp.\",fontsize=20, fontweight='bold')\n",
    "plt.xlabel(\"Temp.\",fontsize=18, fontweight='bold')\n",
    "plt.ylabel(\"Z\",fontsize=18, fontweight='bold')\n",
    "\n",
    "plt.xlim(1000,0)\n",
    "plt.xticks(np.arange(min(temp),max(temp),100),fontweight='bold')\n",
    "plt.yticks(fontweight='bold')\n",
    "\n",
    "plt.show()"
   ]
  }
 ],
 "metadata": {
  "kernelspec": {
   "display_name": "Python 3",
   "language": "python",
   "name": "python3"
  },
  "language_info": {
   "codemirror_mode": {
    "name": "ipython",
    "version": 3
   },
   "file_extension": ".py",
   "mimetype": "text/x-python",
   "name": "python",
   "nbconvert_exporter": "python",
   "pygments_lexer": "ipython3",
   "version": "3.6.5"
  }
 },
 "nbformat": 4,
 "nbformat_minor": 2
}
